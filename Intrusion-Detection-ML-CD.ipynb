{
 "cells": [
  {
   "cell_type": "code",
   "execution_count": 1,
   "metadata": {},
   "outputs": [],
   "source": [
    "import os"
   ]
  },
  {
   "cell_type": "code",
   "execution_count": 2,
   "metadata": {},
   "outputs": [],
   "source": [
    "import pandas as pd"
   ]
  },
  {
   "cell_type": "code",
   "execution_count": 3,
   "metadata": {},
   "outputs": [],
   "source": [
    "import numpy as np"
   ]
  },
  {
   "cell_type": "code",
   "execution_count": 4,
   "metadata": {},
   "outputs": [],
   "source": [
    "import matplotlib.pyplot as plt\n",
    "%matplotlib inline"
   ]
  },
  {
   "cell_type": "code",
   "execution_count": 5,
   "metadata": {},
   "outputs": [],
   "source": [
    "from sklearn.preprocessing import StandardScaler"
   ]
  },
  {
   "cell_type": "code",
   "execution_count": 6,
   "metadata": {},
   "outputs": [],
   "source": [
    "from mpl_toolkits.mplot3d import Axes3D"
   ]
  },
  {
   "cell_type": "code",
   "execution_count": 7,
   "metadata": {},
   "outputs": [],
   "source": [
    "from sklearn.model_selection import train_test_split"
   ]
  },
  {
   "cell_type": "code",
   "execution_count": 8,
   "metadata": {},
   "outputs": [],
   "source": [
    "import tensorflow as tf"
   ]
  },
  {
   "cell_type": "code",
   "execution_count": 9,
   "metadata": {},
   "outputs": [
    {
     "name": "stderr",
     "output_type": "stream",
     "text": [
      "Using TensorFlow backend.\n"
     ]
    }
   ],
   "source": [
    "from keras.layers import Input,Dropout,Dense"
   ]
  },
  {
   "cell_type": "code",
   "execution_count": 10,
   "metadata": {},
   "outputs": [],
   "source": [
    "from keras.models import Model"
   ]
  },
  {
   "cell_type": "code",
   "execution_count": 11,
   "metadata": {},
   "outputs": [],
   "source": [
    "from keras import regularizers"
   ]
  },
  {
   "cell_type": "code",
   "execution_count": 12,
   "metadata": {},
   "outputs": [],
   "source": [
    "from keras.utils.data_utils import get_file"
   ]
  },
  {
   "cell_type": "code",
   "execution_count": 13,
   "metadata": {},
   "outputs": [],
   "source": [
    "from sklearn import metrics"
   ]
  },
  {
   "cell_type": "code",
   "execution_count": 14,
   "metadata": {},
   "outputs": [],
   "source": [
    "from sklearn.svm import SVC"
   ]
  },
  {
   "cell_type": "code",
   "execution_count": 15,
   "metadata": {},
   "outputs": [],
   "source": [
    "from sklearn.naive_bayes import BernoulliNB "
   ]
  },
  {
   "cell_type": "code",
   "execution_count": 16,
   "metadata": {},
   "outputs": [],
   "source": [
    "from sklearn import tree"
   ]
  },
  {
   "cell_type": "code",
   "execution_count": 17,
   "metadata": {},
   "outputs": [],
   "source": [
    "from sklearn.model_selection import cross_val_score"
   ]
  },
  {
   "cell_type": "code",
   "execution_count": 18,
   "metadata": {},
   "outputs": [],
   "source": [
    "from sklearn.neighbors import KNeighborsClassifier"
   ]
  },
  {
   "cell_type": "code",
   "execution_count": 19,
   "metadata": {},
   "outputs": [],
   "source": [
    "from sklearn.linear_model import LogisticRegression"
   ]
  },
  {
   "cell_type": "code",
   "execution_count": 20,
   "metadata": {},
   "outputs": [],
   "source": [
    "from sklearn.feature_selection import RFE"
   ]
  },
  {
   "cell_type": "code",
   "execution_count": 21,
   "metadata": {},
   "outputs": [],
   "source": [
    "import itertools"
   ]
  },
  {
   "cell_type": "code",
   "execution_count": 22,
   "metadata": {},
   "outputs": [],
   "source": [
    "from sklearn.ensemble import RandomForestClassifier"
   ]
  },
  {
   "cell_type": "code",
   "execution_count": 23,
   "metadata": {},
   "outputs": [],
   "source": [
    "from sklearn.preprocessing import OneHotEncoder "
   ]
  },
  {
   "cell_type": "code",
   "execution_count": 24,
   "metadata": {},
   "outputs": [],
   "source": [
    "from sklearn.preprocessing import StandardScaler"
   ]
  },
  {
   "cell_type": "code",
   "execution_count": 25,
   "metadata": {},
   "outputs": [],
   "source": [
    "pd.set_option('display.max_columns', None)\n",
    "pd.set_option('display.max_rows', None)\n",
    "nRowsRead = None "
   ]
  },
  {
   "cell_type": "code",
   "execution_count": 26,
   "metadata": {},
   "outputs": [],
   "source": [
    "nrows=20000"
   ]
  },
  {
   "cell_type": "code",
   "execution_count": 27,
   "metadata": {},
   "outputs": [],
   "source": [
    "df1 = pd.read_csv(\"Dataset/Friday-WorkingHours-Afternoon-DDos.pcap_ISCX.csv\", nrows=nrows)"
   ]
  },
  {
   "cell_type": "code",
   "execution_count": 28,
   "metadata": {},
   "outputs": [],
   "source": [
    "df2=pd.read_csv(\"Dataset/Friday-WorkingHours-Afternoon-PortScan.pcap_ISCX.csv\", nrows=nrows)"
   ]
  },
  {
   "cell_type": "code",
   "execution_count": 29,
   "metadata": {},
   "outputs": [],
   "source": [
    "df3=pd.read_csv(\"Dataset/Friday-WorkingHours-Morning.pcap_ISCX.csv\", nrows=nrows)"
   ]
  },
  {
   "cell_type": "code",
   "execution_count": 30,
   "metadata": {},
   "outputs": [],
   "source": [
    "df4=pd.read_csv(\"Dataset/Monday-WorkingHours.pcap_ISCX.csv\", nrows=nrows)"
   ]
  },
  {
   "cell_type": "code",
   "execution_count": 31,
   "metadata": {},
   "outputs": [],
   "source": [
    "df5=pd.read_csv(\"Dataset/Thursday-WorkingHours-Afternoon-Infilteration.pcap_ISCX.csv\", nrows=nrows)"
   ]
  },
  {
   "cell_type": "code",
   "execution_count": 32,
   "metadata": {},
   "outputs": [],
   "source": [
    "df6=pd.read_csv(\"Dataset/Thursday-WorkingHours-Morning-WebAttacks.pcap_ISCX.csv\", nrows=nrows)"
   ]
  },
  {
   "cell_type": "code",
   "execution_count": 33,
   "metadata": {},
   "outputs": [],
   "source": [
    "df7=pd.read_csv(\"Dataset/Tuesday-WorkingHours.pcap_ISCX.csv\", nrows=nrows)"
   ]
  },
  {
   "cell_type": "code",
   "execution_count": 34,
   "metadata": {},
   "outputs": [],
   "source": [
    "df8=pd.read_csv(\"Dataset/Wednesday-workingHours.pcap_ISCX.csv\", nrows=nrows)"
   ]
  },
  {
   "cell_type": "code",
   "execution_count": 35,
   "metadata": {},
   "outputs": [],
   "source": [
    "df = pd.concat([df1,df2, df3, df4,df5,df6,df7,df8])"
   ]
  },
  {
   "cell_type": "code",
   "execution_count": 36,
   "metadata": {},
   "outputs": [],
   "source": [
    "del df1,df2, df3, df4,df5,df6,df7,df8"
   ]
  },
  {
   "cell_type": "code",
   "execution_count": 37,
   "metadata": {
    "_kg_hide-input": false
   },
   "outputs": [
    {
     "name": "stdout",
     "output_type": "stream",
     "text": [
      "Rows 48000 Columns 85 \n"
     ]
    }
   ],
   "source": [
    "nRow, nCol = df.shape\n",
    "print(f'Rows {nRow} Columns {nCol} ')"
   ]
  },
  {
   "cell_type": "code",
   "execution_count": 38,
   "metadata": {},
   "outputs": [],
   "source": [
    "df = df.dropna()"
   ]
  },
  {
   "cell_type": "code",
   "execution_count": 39,
   "metadata": {},
   "outputs": [],
   "source": [
    "df.columns = df.columns.str.strip()"
   ]
  },
  {
   "cell_type": "code",
   "execution_count": 40,
   "metadata": {},
   "outputs": [
    {
     "name": "stdout",
     "output_type": "stream",
     "text": [
      "<class 'pandas.core.frame.DataFrame'>\n",
      "Int64Index: 6000 entries, 0 to 5999\n",
      "Data columns (total 85 columns):\n",
      " #   Column                       Non-Null Count  Dtype  \n",
      "---  ------                       --------------  -----  \n",
      " 0   Destination Port             6000 non-null   int64  \n",
      " 1   Flow Duration                6000 non-null   int64  \n",
      " 2   Total Fwd Packets            6000 non-null   int64  \n",
      " 3   Total Backward Packets       6000 non-null   int64  \n",
      " 4   Total Length of Fwd Packets  6000 non-null   int64  \n",
      " 5   Total Length of Bwd Packets  6000 non-null   int64  \n",
      " 6   Fwd Packet Length Max        6000 non-null   int64  \n",
      " 7   Fwd Packet Length Min        6000 non-null   int64  \n",
      " 8   Fwd Packet Length Mean       6000 non-null   float64\n",
      " 9   Fwd Packet Length Std        6000 non-null   float64\n",
      " 10  Bwd Packet Length Max        6000 non-null   int64  \n",
      " 11  Bwd Packet Length Min        6000 non-null   int64  \n",
      " 12  Bwd Packet Length Mean       6000 non-null   float64\n",
      " 13  Bwd Packet Length Std        6000 non-null   float64\n",
      " 14  Flow Bytes/s                 6000 non-null   float64\n",
      " 15  Flow Packets/s               6000 non-null   float64\n",
      " 16  Flow IAT Mean                6000 non-null   float64\n",
      " 17  Flow IAT Std                 6000 non-null   float64\n",
      " 18  Flow IAT Max                 6000 non-null   float64\n",
      " 19  Flow IAT Min                 6000 non-null   float64\n",
      " 20  Fwd IAT Total                6000 non-null   float64\n",
      " 21  Fwd IAT Mean                 6000 non-null   float64\n",
      " 22  Fwd IAT Std                  6000 non-null   float64\n",
      " 23  Fwd IAT Max                  6000 non-null   float64\n",
      " 24  Fwd IAT Min                  6000 non-null   float64\n",
      " 25  Bwd IAT Total                6000 non-null   float64\n",
      " 26  Bwd IAT Mean                 6000 non-null   float64\n",
      " 27  Bwd IAT Std                  6000 non-null   float64\n",
      " 28  Bwd IAT Max                  6000 non-null   float64\n",
      " 29  Bwd IAT Min                  6000 non-null   float64\n",
      " 30  Fwd PSH Flags                6000 non-null   int64  \n",
      " 31  Bwd PSH Flags                6000 non-null   int64  \n",
      " 32  Fwd URG Flags                6000 non-null   int64  \n",
      " 33  Bwd URG Flags                6000 non-null   int64  \n",
      " 34  Fwd Header Length            6000 non-null   int64  \n",
      " 35  Bwd Header Length            6000 non-null   int64  \n",
      " 36  Fwd Packets/s                6000 non-null   float64\n",
      " 37  Bwd Packets/s                6000 non-null   float64\n",
      " 38  Min Packet Length            6000 non-null   int64  \n",
      " 39  Max Packet Length            6000 non-null   int64  \n",
      " 40  Packet Length Mean           6000 non-null   float64\n",
      " 41  Packet Length Std            6000 non-null   float64\n",
      " 42  Packet Length Variance       6000 non-null   float64\n",
      " 43  FIN Flag Count               6000 non-null   int64  \n",
      " 44  SYN Flag Count               6000 non-null   int64  \n",
      " 45  RST Flag Count               6000 non-null   int64  \n",
      " 46  PSH Flag Count               6000 non-null   int64  \n",
      " 47  ACK Flag Count               6000 non-null   int64  \n",
      " 48  URG Flag Count               6000 non-null   int64  \n",
      " 49  CWE Flag Count               6000 non-null   int64  \n",
      " 50  ECE Flag Count               6000 non-null   int64  \n",
      " 51  Down/Up Ratio                6000 non-null   int64  \n",
      " 52  Average Packet Size          6000 non-null   float64\n",
      " 53  Avg Fwd Segment Size         6000 non-null   float64\n",
      " 54  Avg Bwd Segment Size         6000 non-null   float64\n",
      " 55  Fwd Header Length.1          6000 non-null   int64  \n",
      " 56  Fwd Avg Bytes/Bulk           6000 non-null   int64  \n",
      " 57  Fwd Avg Packets/Bulk         6000 non-null   int64  \n",
      " 58  Fwd Avg Bulk Rate            6000 non-null   int64  \n",
      " 59  Bwd Avg Bytes/Bulk           6000 non-null   int64  \n",
      " 60  Bwd Avg Packets/Bulk         6000 non-null   int64  \n",
      " 61  Bwd Avg Bulk Rate            6000 non-null   int64  \n",
      " 62  Subflow Fwd Packets          6000 non-null   int64  \n",
      " 63  Subflow Fwd Bytes            6000 non-null   int64  \n",
      " 64  Subflow Bwd Packets          6000 non-null   int64  \n",
      " 65  Subflow Bwd Bytes            6000 non-null   int64  \n",
      " 66  Init_Win_bytes_forward       6000 non-null   int64  \n",
      " 67  Init_Win_bytes_backward      6000 non-null   int64  \n",
      " 68  act_data_pkt_fwd             6000 non-null   int64  \n",
      " 69  min_seg_size_forward         6000 non-null   int64  \n",
      " 70  Active Mean                  6000 non-null   float64\n",
      " 71  Active Std                   6000 non-null   float64\n",
      " 72  Active Max                   6000 non-null   float64\n",
      " 73  Active Min                   6000 non-null   int64  \n",
      " 74  Idle Mean                    6000 non-null   float64\n",
      " 75  Idle Std                     6000 non-null   float64\n",
      " 76  Idle Max                     6000 non-null   float64\n",
      " 77  Idle Min                     6000 non-null   float64\n",
      " 78  Label                        6000 non-null   object \n",
      " 79  Flow ID                      6000 non-null   object \n",
      " 80  Source IP                    6000 non-null   object \n",
      " 81  Source Port                  6000 non-null   float64\n",
      " 82  Destination IP               6000 non-null   object \n",
      " 83  Protocol                     6000 non-null   float64\n",
      " 84  Timestamp                    6000 non-null   object \n",
      "dtypes: float64(37), int64(43), object(5)\n",
      "memory usage: 3.9+ MB\n"
     ]
    }
   ],
   "source": [
    "df.info()"
   ]
  },
  {
   "cell_type": "code",
   "execution_count": 41,
   "metadata": {},
   "outputs": [],
   "source": [
    "df = df[[\"Destination Port\", \"Flow Duration\", \"Total Fwd Packets\", 'Total Backward Packets', 'Total Length of Fwd Packets', 'Total Length of Bwd Packets', 'Subflow Fwd Packets','Subflow Fwd Bytes','Subflow Bwd Packets', 'Subflow Bwd Bytes','Init_Win_bytes_backward','act_data_pkt_fwd','min_seg_size_forward',\"Label\"]]"
   ]
  },
  {
   "cell_type": "code",
   "execution_count": 42,
   "metadata": {
    "_kg_hide-input": false
   },
   "outputs": [
    {
     "data": {
      "text/html": [
       "<div>\n",
       "<style scoped>\n",
       "    .dataframe tbody tr th:only-of-type {\n",
       "        vertical-align: middle;\n",
       "    }\n",
       "\n",
       "    .dataframe tbody tr th {\n",
       "        vertical-align: top;\n",
       "    }\n",
       "\n",
       "    .dataframe thead th {\n",
       "        text-align: right;\n",
       "    }\n",
       "</style>\n",
       "<table border=\"1\" class=\"dataframe\">\n",
       "  <thead>\n",
       "    <tr style=\"text-align: right;\">\n",
       "      <th></th>\n",
       "      <th>Destination Port</th>\n",
       "      <th>Flow Duration</th>\n",
       "      <th>Total Fwd Packets</th>\n",
       "      <th>Total Backward Packets</th>\n",
       "      <th>Total Length of Fwd Packets</th>\n",
       "      <th>Total Length of Bwd Packets</th>\n",
       "      <th>Subflow Fwd Packets</th>\n",
       "      <th>Subflow Fwd Bytes</th>\n",
       "      <th>Subflow Bwd Packets</th>\n",
       "      <th>Subflow Bwd Bytes</th>\n",
       "      <th>Init_Win_bytes_backward</th>\n",
       "      <th>act_data_pkt_fwd</th>\n",
       "      <th>min_seg_size_forward</th>\n",
       "      <th>Label</th>\n",
       "    </tr>\n",
       "  </thead>\n",
       "  <tbody>\n",
       "    <tr>\n",
       "      <th>0</th>\n",
       "      <td>22</td>\n",
       "      <td>1266342</td>\n",
       "      <td>41</td>\n",
       "      <td>44</td>\n",
       "      <td>2664</td>\n",
       "      <td>6954</td>\n",
       "      <td>41</td>\n",
       "      <td>2664</td>\n",
       "      <td>44</td>\n",
       "      <td>6954</td>\n",
       "      <td>243</td>\n",
       "      <td>24</td>\n",
       "      <td>32</td>\n",
       "      <td>BENIGN</td>\n",
       "    </tr>\n",
       "    <tr>\n",
       "      <th>1</th>\n",
       "      <td>22</td>\n",
       "      <td>1319353</td>\n",
       "      <td>41</td>\n",
       "      <td>44</td>\n",
       "      <td>2664</td>\n",
       "      <td>6954</td>\n",
       "      <td>41</td>\n",
       "      <td>2664</td>\n",
       "      <td>44</td>\n",
       "      <td>6954</td>\n",
       "      <td>243</td>\n",
       "      <td>24</td>\n",
       "      <td>32</td>\n",
       "      <td>BENIGN</td>\n",
       "    </tr>\n",
       "    <tr>\n",
       "      <th>2</th>\n",
       "      <td>22</td>\n",
       "      <td>160</td>\n",
       "      <td>1</td>\n",
       "      <td>1</td>\n",
       "      <td>0</td>\n",
       "      <td>0</td>\n",
       "      <td>1</td>\n",
       "      <td>0</td>\n",
       "      <td>1</td>\n",
       "      <td>0</td>\n",
       "      <td>243</td>\n",
       "      <td>0</td>\n",
       "      <td>32</td>\n",
       "      <td>BENIGN</td>\n",
       "    </tr>\n",
       "    <tr>\n",
       "      <th>3</th>\n",
       "      <td>22</td>\n",
       "      <td>1303488</td>\n",
       "      <td>41</td>\n",
       "      <td>42</td>\n",
       "      <td>2728</td>\n",
       "      <td>6634</td>\n",
       "      <td>41</td>\n",
       "      <td>2728</td>\n",
       "      <td>42</td>\n",
       "      <td>6634</td>\n",
       "      <td>243</td>\n",
       "      <td>24</td>\n",
       "      <td>32</td>\n",
       "      <td>BENIGN</td>\n",
       "    </tr>\n",
       "    <tr>\n",
       "      <th>4</th>\n",
       "      <td>35396</td>\n",
       "      <td>77</td>\n",
       "      <td>1</td>\n",
       "      <td>2</td>\n",
       "      <td>0</td>\n",
       "      <td>0</td>\n",
       "      <td>1</td>\n",
       "      <td>0</td>\n",
       "      <td>2</td>\n",
       "      <td>0</td>\n",
       "      <td>290</td>\n",
       "      <td>0</td>\n",
       "      <td>32</td>\n",
       "      <td>BENIGN</td>\n",
       "    </tr>\n",
       "  </tbody>\n",
       "</table>\n",
       "</div>"
      ],
      "text/plain": [
       "   Destination Port  Flow Duration  Total Fwd Packets  Total Backward Packets  \\\n",
       "0                22        1266342                 41                      44   \n",
       "1                22        1319353                 41                      44   \n",
       "2                22            160                  1                       1   \n",
       "3                22        1303488                 41                      42   \n",
       "4             35396             77                  1                       2   \n",
       "\n",
       "   Total Length of Fwd Packets  Total Length of Bwd Packets  \\\n",
       "0                         2664                         6954   \n",
       "1                         2664                         6954   \n",
       "2                            0                            0   \n",
       "3                         2728                         6634   \n",
       "4                            0                            0   \n",
       "\n",
       "   Subflow Fwd Packets  Subflow Fwd Bytes  Subflow Bwd Packets  \\\n",
       "0                   41               2664                   44   \n",
       "1                   41               2664                   44   \n",
       "2                    1                  0                    1   \n",
       "3                   41               2728                   42   \n",
       "4                    1                  0                    2   \n",
       "\n",
       "   Subflow Bwd Bytes  Init_Win_bytes_backward  act_data_pkt_fwd  \\\n",
       "0               6954                      243                24   \n",
       "1               6954                      243                24   \n",
       "2                  0                      243                 0   \n",
       "3               6634                      243                24   \n",
       "4                  0                      290                 0   \n",
       "\n",
       "   min_seg_size_forward   Label  \n",
       "0                    32  BENIGN  \n",
       "1                    32  BENIGN  \n",
       "2                    32  BENIGN  \n",
       "3                    32  BENIGN  \n",
       "4                    32  BENIGN  "
      ]
     },
     "execution_count": 42,
     "metadata": {},
     "output_type": "execute_result"
    }
   ],
   "source": [
    "df.head()"
   ]
  },
  {
   "cell_type": "code",
   "execution_count": 43,
   "metadata": {
    "_kg_hide-input": true
   },
   "outputs": [],
   "source": [
    "def plotPerColumnDistribution(df, nGraphShown, nGraphPerRow):\n",
    "    nunique = df.nunique()\n",
    "    df = df[[col for col in df if nunique[col] > 1 and nunique[col] < 50]] # For displaying purposes, pick columns that have between 1 and 50 unique values\n",
    "    nRow, nCol = df.shape\n",
    "    columnNames = list(df)\n",
    "    nGraphRow = (nCol + nGraphPerRow - 1) / nGraphPerRow\n",
    "    plt.figure(num = None, figsize = (6 * nGraphPerRow, 8 * nGraphRow), dpi = 80, facecolor = 'w', edgecolor = 'k')\n",
    "    for i in range(min(nCol, nGraphShown)):\n",
    "        plt.subplot(nGraphRow, nGraphPerRow, i + 1)\n",
    "        columnDf = df.iloc[:, i]\n",
    "        if (not np.issubdtype(type(columnDf.iloc[0]), np.number)):\n",
    "            valueCounts = columnDf.value_counts()\n",
    "            valueCounts.plot.bar()\n",
    "        else:\n",
    "            columnDf.hist()\n",
    "        plt.ylabel('counts')\n",
    "        plt.xticks(rotation = 90)\n",
    "        plt.title(f'{columnNames[i]} (column {i})')\n",
    "    plt.tight_layout(pad = 1.0, w_pad = 1.0, h_pad = 1.0)\n",
    "    plt.show()\n"
   ]
  },
  {
   "cell_type": "code",
   "execution_count": 44,
   "metadata": {
    "_kg_hide-input": false
   },
   "outputs": [
    {
     "data": {
      "image/png": "[encoded data removed]",
      "text/plain": [
       "<Figure size 2400x768 with 2 Axes>"
      ]
     },
     "metadata": {},
     "output_type": "display_data"
    }
   ],
   "source": [
    "plotPerColumnDistribution(df, 79, 5)"
   ]
  },
  {
   "cell_type": "code",
   "execution_count": 45,
   "metadata": {},
   "outputs": [],
   "source": [
    "train, test=train_test_split(df,test_size=0.3, random_state=10)"
   ]
  },
  {
   "cell_type": "code",
   "execution_count": 46,
   "metadata": {},
   "outputs": [
    {
     "data": {
      "text/html": [
       "<div>\n",
       "<style scoped>\n",
       "    .dataframe tbody tr th:only-of-type {\n",
       "        vertical-align: middle;\n",
       "    }\n",
       "\n",
       "    .dataframe tbody tr th {\n",
       "        vertical-align: top;\n",
       "    }\n",
       "\n",
       "    .dataframe thead th {\n",
       "        text-align: right;\n",
       "    }\n",
       "</style>\n",
       "<table border=\"1\" class=\"dataframe\">\n",
       "  <thead>\n",
       "    <tr style=\"text-align: right;\">\n",
       "      <th></th>\n",
       "      <th>Destination Port</th>\n",
       "      <th>Flow Duration</th>\n",
       "      <th>Total Fwd Packets</th>\n",
       "      <th>Total Backward Packets</th>\n",
       "      <th>Total Length of Fwd Packets</th>\n",
       "      <th>Total Length of Bwd Packets</th>\n",
       "      <th>Subflow Fwd Packets</th>\n",
       "      <th>Subflow Fwd Bytes</th>\n",
       "      <th>Subflow Bwd Packets</th>\n",
       "      <th>Subflow Bwd Bytes</th>\n",
       "      <th>Init_Win_bytes_backward</th>\n",
       "      <th>act_data_pkt_fwd</th>\n",
       "      <th>min_seg_size_forward</th>\n",
       "    </tr>\n",
       "  </thead>\n",
       "  <tbody>\n",
       "    <tr>\n",
       "      <th>count</th>\n",
       "      <td>4200.000000</td>\n",
       "      <td>4.200000e+03</td>\n",
       "      <td>4200.000000</td>\n",
       "      <td>4200.00000</td>\n",
       "      <td>4200.000000</td>\n",
       "      <td>4.200000e+03</td>\n",
       "      <td>4200.000000</td>\n",
       "      <td>4200.000000</td>\n",
       "      <td>4200.00000</td>\n",
       "      <td>4.200000e+03</td>\n",
       "      <td>4200.000000</td>\n",
       "      <td>4200.000000</td>\n",
       "      <td>4200.0000</td>\n",
       "    </tr>\n",
       "    <tr>\n",
       "      <th>mean</th>\n",
       "      <td>6053.227143</td>\n",
       "      <td>1.100050e+07</td>\n",
       "      <td>6.928810</td>\n",
       "      <td>6.83381</td>\n",
       "      <td>468.881429</td>\n",
       "      <td>6.260041e+03</td>\n",
       "      <td>6.928810</td>\n",
       "      <td>468.881429</td>\n",
       "      <td>6.83381</td>\n",
       "      <td>6.260041e+03</td>\n",
       "      <td>1703.827381</td>\n",
       "      <td>4.371667</td>\n",
       "      <td>24.4000</td>\n",
       "    </tr>\n",
       "    <tr>\n",
       "      <th>std</th>\n",
       "      <td>15971.476186</td>\n",
       "      <td>3.033010e+07</td>\n",
       "      <td>33.225477</td>\n",
       "      <td>47.30466</td>\n",
       "      <td>1683.700991</td>\n",
       "      <td>7.947149e+04</td>\n",
       "      <td>33.225477</td>\n",
       "      <td>1683.700991</td>\n",
       "      <td>47.30466</td>\n",
       "      <td>7.947149e+04</td>\n",
       "      <td>7916.773588</td>\n",
       "      <td>25.227636</td>\n",
       "      <td>5.9388</td>\n",
       "    </tr>\n",
       "    <tr>\n",
       "      <th>min</th>\n",
       "      <td>0.000000</td>\n",
       "      <td>0.000000e+00</td>\n",
       "      <td>1.000000</td>\n",
       "      <td>0.00000</td>\n",
       "      <td>0.000000</td>\n",
       "      <td>0.000000e+00</td>\n",
       "      <td>1.000000</td>\n",
       "      <td>0.000000</td>\n",
       "      <td>0.00000</td>\n",
       "      <td>0.000000e+00</td>\n",
       "      <td>-1.000000</td>\n",
       "      <td>0.000000</td>\n",
       "      <td>0.0000</td>\n",
       "    </tr>\n",
       "    <tr>\n",
       "      <th>25%</th>\n",
       "      <td>53.000000</td>\n",
       "      <td>1.790000e+02</td>\n",
       "      <td>1.000000</td>\n",
       "      <td>1.00000</td>\n",
       "      <td>37.000000</td>\n",
       "      <td>6.000000e+00</td>\n",
       "      <td>1.000000</td>\n",
       "      <td>37.000000</td>\n",
       "      <td>1.00000</td>\n",
       "      <td>6.000000e+00</td>\n",
       "      <td>-1.000000</td>\n",
       "      <td>0.000000</td>\n",
       "      <td>20.0000</td>\n",
       "    </tr>\n",
       "    <tr>\n",
       "      <th>50%</th>\n",
       "      <td>80.000000</td>\n",
       "      <td>3.113800e+04</td>\n",
       "      <td>2.000000</td>\n",
       "      <td>2.00000</td>\n",
       "      <td>68.000000</td>\n",
       "      <td>1.310000e+02</td>\n",
       "      <td>2.000000</td>\n",
       "      <td>68.000000</td>\n",
       "      <td>2.00000</td>\n",
       "      <td>1.310000e+02</td>\n",
       "      <td>-1.000000</td>\n",
       "      <td>1.000000</td>\n",
       "      <td>20.0000</td>\n",
       "    </tr>\n",
       "    <tr>\n",
       "      <th>75%</th>\n",
       "      <td>443.000000</td>\n",
       "      <td>2.794248e+05</td>\n",
       "      <td>4.000000</td>\n",
       "      <td>2.00000</td>\n",
       "      <td>156.000000</td>\n",
       "      <td>3.220000e+02</td>\n",
       "      <td>4.000000</td>\n",
       "      <td>156.000000</td>\n",
       "      <td>2.00000</td>\n",
       "      <td>3.220000e+02</td>\n",
       "      <td>240.000000</td>\n",
       "      <td>3.000000</td>\n",
       "      <td>32.0000</td>\n",
       "    </tr>\n",
       "    <tr>\n",
       "      <th>max</th>\n",
       "      <td>64253.000000</td>\n",
       "      <td>1.199989e+08</td>\n",
       "      <td>1301.000000</td>\n",
       "      <td>1649.00000</td>\n",
       "      <td>34076.000000</td>\n",
       "      <td>3.122560e+06</td>\n",
       "      <td>1301.000000</td>\n",
       "      <td>34076.000000</td>\n",
       "      <td>1649.00000</td>\n",
       "      <td>3.122560e+06</td>\n",
       "      <td>65535.000000</td>\n",
       "      <td>867.000000</td>\n",
       "      <td>44.0000</td>\n",
       "    </tr>\n",
       "  </tbody>\n",
       "</table>\n",
       "</div>"
      ],
      "text/plain": [
       "       Destination Port  Flow Duration  Total Fwd Packets  \\\n",
       "count       4200.000000   4.200000e+03        4200.000000   \n",
       "mean        6053.227143   1.100050e+07           6.928810   \n",
       "std        15971.476186   3.033010e+07          33.225477   \n",
       "min            0.000000   0.000000e+00           1.000000   \n",
       "25%           53.000000   1.790000e+02           1.000000   \n",
       "50%           80.000000   3.113800e+04           2.000000   \n",
       "75%          443.000000   2.794248e+05           4.000000   \n",
       "max        64253.000000   1.199989e+08        1301.000000   \n",
       "\n",
       "       Total Backward Packets  Total Length of Fwd Packets  \\\n",
       "count              4200.00000                  4200.000000   \n",
       "mean                  6.83381                   468.881429   \n",
       "std                  47.30466                  1683.700991   \n",
       "min                   0.00000                     0.000000   \n",
       "25%                   1.00000                    37.000000   \n",
       "50%                   2.00000                    68.000000   \n",
       "75%                   2.00000                   156.000000   \n",
       "max                1649.00000                 34076.000000   \n",
       "\n",
       "       Total Length of Bwd Packets  Subflow Fwd Packets  Subflow Fwd Bytes  \\\n",
       "count                 4.200000e+03          4200.000000        4200.000000   \n",
       "mean                  6.260041e+03             6.928810         468.881429   \n",
       "std                   7.947149e+04            33.225477        1683.700991   \n",
       "min                   0.000000e+00             1.000000           0.000000   \n",
       "25%                   6.000000e+00             1.000000          37.000000   \n",
       "50%                   1.310000e+02             2.000000          68.000000   \n",
       "75%                   3.220000e+02             4.000000         156.000000   \n",
       "max                   3.122560e+06          1301.000000       34076.000000   \n",
       "\n",
       "       Subflow Bwd Packets  Subflow Bwd Bytes  Init_Win_bytes_backward  \\\n",
       "count           4200.00000       4.200000e+03              4200.000000   \n",
       "mean               6.83381       6.260041e+03              1703.827381   \n",
       "std               47.30466       7.947149e+04              7916.773588   \n",
       "min                0.00000       0.000000e+00                -1.000000   \n",
       "25%                1.00000       6.000000e+00                -1.000000   \n",
       "50%                2.00000       1.310000e+02                -1.000000   \n",
       "75%                2.00000       3.220000e+02               240.000000   \n",
       "max             1649.00000       3.122560e+06             65535.000000   \n",
       "\n",
       "       act_data_pkt_fwd  min_seg_size_forward  \n",
       "count       4200.000000             4200.0000  \n",
       "mean           4.371667               24.4000  \n",
       "std           25.227636                5.9388  \n",
       "min            0.000000                0.0000  \n",
       "25%            0.000000               20.0000  \n",
       "50%            1.000000               20.0000  \n",
       "75%            3.000000               32.0000  \n",
       "max          867.000000               44.0000  "
      ]
     },
     "execution_count": 46,
     "metadata": {},
     "output_type": "execute_result"
    }
   ],
   "source": [
    "train.describe()"
   ]
  },
  {
   "cell_type": "code",
   "execution_count": 47,
   "metadata": {},
   "outputs": [
    {
     "data": {
      "text/html": [
       "<div>\n",
       "<style scoped>\n",
       "    .dataframe tbody tr th:only-of-type {\n",
       "        vertical-align: middle;\n",
       "    }\n",
       "\n",
       "    .dataframe tbody tr th {\n",
       "        vertical-align: top;\n",
       "    }\n",
       "\n",
       "    .dataframe thead th {\n",
       "        text-align: right;\n",
       "    }\n",
       "</style>\n",
       "<table border=\"1\" class=\"dataframe\">\n",
       "  <thead>\n",
       "    <tr style=\"text-align: right;\">\n",
       "      <th></th>\n",
       "      <th>Destination Port</th>\n",
       "      <th>Flow Duration</th>\n",
       "      <th>Total Fwd Packets</th>\n",
       "      <th>Total Backward Packets</th>\n",
       "      <th>Total Length of Fwd Packets</th>\n",
       "      <th>Total Length of Bwd Packets</th>\n",
       "      <th>Subflow Fwd Packets</th>\n",
       "      <th>Subflow Fwd Bytes</th>\n",
       "      <th>Subflow Bwd Packets</th>\n",
       "      <th>Subflow Bwd Bytes</th>\n",
       "      <th>Init_Win_bytes_backward</th>\n",
       "      <th>act_data_pkt_fwd</th>\n",
       "      <th>min_seg_size_forward</th>\n",
       "    </tr>\n",
       "  </thead>\n",
       "  <tbody>\n",
       "    <tr>\n",
       "      <th>count</th>\n",
       "      <td>1800.000000</td>\n",
       "      <td>1.800000e+03</td>\n",
       "      <td>1800.000000</td>\n",
       "      <td>1800.000000</td>\n",
       "      <td>1800.000000</td>\n",
       "      <td>1.800000e+03</td>\n",
       "      <td>1800.000000</td>\n",
       "      <td>1800.000000</td>\n",
       "      <td>1800.000000</td>\n",
       "      <td>1.800000e+03</td>\n",
       "      <td>1800.000000</td>\n",
       "      <td>1800.000000</td>\n",
       "      <td>1800.000000</td>\n",
       "    </tr>\n",
       "    <tr>\n",
       "      <th>mean</th>\n",
       "      <td>5938.246111</td>\n",
       "      <td>1.066797e+07</td>\n",
       "      <td>6.393889</td>\n",
       "      <td>6.375556</td>\n",
       "      <td>383.089444</td>\n",
       "      <td>6.293958e+03</td>\n",
       "      <td>6.393889</td>\n",
       "      <td>383.089444</td>\n",
       "      <td>6.375556</td>\n",
       "      <td>6.293958e+03</td>\n",
       "      <td>1541.943889</td>\n",
       "      <td>4.063889</td>\n",
       "      <td>24.355556</td>\n",
       "    </tr>\n",
       "    <tr>\n",
       "      <th>std</th>\n",
       "      <td>15841.767396</td>\n",
       "      <td>3.025741e+07</td>\n",
       "      <td>21.136415</td>\n",
       "      <td>28.971111</td>\n",
       "      <td>1394.740520</td>\n",
       "      <td>5.459618e+04</td>\n",
       "      <td>21.136415</td>\n",
       "      <td>1394.740520</td>\n",
       "      <td>28.971111</td>\n",
       "      <td>5.459618e+04</td>\n",
       "      <td>7724.486071</td>\n",
       "      <td>16.675426</td>\n",
       "      <td>5.935939</td>\n",
       "    </tr>\n",
       "    <tr>\n",
       "      <th>min</th>\n",
       "      <td>0.000000</td>\n",
       "      <td>1.000000e+00</td>\n",
       "      <td>1.000000</td>\n",
       "      <td>0.000000</td>\n",
       "      <td>0.000000</td>\n",
       "      <td>0.000000e+00</td>\n",
       "      <td>1.000000</td>\n",
       "      <td>0.000000</td>\n",
       "      <td>0.000000</td>\n",
       "      <td>0.000000e+00</td>\n",
       "      <td>-1.000000</td>\n",
       "      <td>0.000000</td>\n",
       "      <td>0.000000</td>\n",
       "    </tr>\n",
       "    <tr>\n",
       "      <th>25%</th>\n",
       "      <td>53.000000</td>\n",
       "      <td>1.870000e+02</td>\n",
       "      <td>1.000000</td>\n",
       "      <td>1.000000</td>\n",
       "      <td>41.000000</td>\n",
       "      <td>6.000000e+00</td>\n",
       "      <td>1.000000</td>\n",
       "      <td>41.000000</td>\n",
       "      <td>1.000000</td>\n",
       "      <td>6.000000e+00</td>\n",
       "      <td>-1.000000</td>\n",
       "      <td>0.000000</td>\n",
       "      <td>20.000000</td>\n",
       "    </tr>\n",
       "    <tr>\n",
       "      <th>50%</th>\n",
       "      <td>53.000000</td>\n",
       "      <td>3.094200e+04</td>\n",
       "      <td>2.000000</td>\n",
       "      <td>2.000000</td>\n",
       "      <td>68.000000</td>\n",
       "      <td>1.320000e+02</td>\n",
       "      <td>2.000000</td>\n",
       "      <td>68.000000</td>\n",
       "      <td>2.000000</td>\n",
       "      <td>1.320000e+02</td>\n",
       "      <td>-1.000000</td>\n",
       "      <td>1.000000</td>\n",
       "      <td>20.000000</td>\n",
       "    </tr>\n",
       "    <tr>\n",
       "      <th>75%</th>\n",
       "      <td>443.000000</td>\n",
       "      <td>2.144545e+05</td>\n",
       "      <td>4.000000</td>\n",
       "      <td>2.000000</td>\n",
       "      <td>142.500000</td>\n",
       "      <td>3.205000e+02</td>\n",
       "      <td>4.000000</td>\n",
       "      <td>142.500000</td>\n",
       "      <td>2.000000</td>\n",
       "      <td>3.205000e+02</td>\n",
       "      <td>182.500000</td>\n",
       "      <td>3.000000</td>\n",
       "      <td>32.000000</td>\n",
       "    </tr>\n",
       "    <tr>\n",
       "      <th>max</th>\n",
       "      <td>64253.000000</td>\n",
       "      <td>1.199574e+08</td>\n",
       "      <td>474.000000</td>\n",
       "      <td>579.000000</td>\n",
       "      <td>23205.000000</td>\n",
       "      <td>1.191676e+06</td>\n",
       "      <td>474.000000</td>\n",
       "      <td>23205.000000</td>\n",
       "      <td>579.000000</td>\n",
       "      <td>1.191676e+06</td>\n",
       "      <td>65535.000000</td>\n",
       "      <td>313.000000</td>\n",
       "      <td>44.000000</td>\n",
       "    </tr>\n",
       "  </tbody>\n",
       "</table>\n",
       "</div>"
      ],
      "text/plain": [
       "       Destination Port  Flow Duration  Total Fwd Packets  \\\n",
       "count       1800.000000   1.800000e+03        1800.000000   \n",
       "mean        5938.246111   1.066797e+07           6.393889   \n",
       "std        15841.767396   3.025741e+07          21.136415   \n",
       "min            0.000000   1.000000e+00           1.000000   \n",
       "25%           53.000000   1.870000e+02           1.000000   \n",
       "50%           53.000000   3.094200e+04           2.000000   \n",
       "75%          443.000000   2.144545e+05           4.000000   \n",
       "max        64253.000000   1.199574e+08         474.000000   \n",
       "\n",
       "       Total Backward Packets  Total Length of Fwd Packets  \\\n",
       "count             1800.000000                  1800.000000   \n",
       "mean                 6.375556                   383.089444   \n",
       "std                 28.971111                  1394.740520   \n",
       "min                  0.000000                     0.000000   \n",
       "25%                  1.000000                    41.000000   \n",
       "50%                  2.000000                    68.000000   \n",
       "75%                  2.000000                   142.500000   \n",
       "max                579.000000                 23205.000000   \n",
       "\n",
       "       Total Length of Bwd Packets  Subflow Fwd Packets  Subflow Fwd Bytes  \\\n",
       "count                 1.800000e+03          1800.000000        1800.000000   \n",
       "mean                  6.293958e+03             6.393889         383.089444   \n",
       "std                   5.459618e+04            21.136415        1394.740520   \n",
       "min                   0.000000e+00             1.000000           0.000000   \n",
       "25%                   6.000000e+00             1.000000          41.000000   \n",
       "50%                   1.320000e+02             2.000000          68.000000   \n",
       "75%                   3.205000e+02             4.000000         142.500000   \n",
       "max                   1.191676e+06           474.000000       23205.000000   \n",
       "\n",
       "       Subflow Bwd Packets  Subflow Bwd Bytes  Init_Win_bytes_backward  \\\n",
       "count          1800.000000       1.800000e+03              1800.000000   \n",
       "mean              6.375556       6.293958e+03              1541.943889   \n",
       "std              28.971111       5.459618e+04              7724.486071   \n",
       "min               0.000000       0.000000e+00                -1.000000   \n",
       "25%               1.000000       6.000000e+00                -1.000000   \n",
       "50%               2.000000       1.320000e+02                -1.000000   \n",
       "75%               2.000000       3.205000e+02               182.500000   \n",
       "max             579.000000       1.191676e+06             65535.000000   \n",
       "\n",
       "       act_data_pkt_fwd  min_seg_size_forward  \n",
       "count       1800.000000           1800.000000  \n",
       "mean           4.063889             24.355556  \n",
       "std           16.675426              5.935939  \n",
       "min            0.000000              0.000000  \n",
       "25%            0.000000             20.000000  \n",
       "50%            1.000000             20.000000  \n",
       "75%            3.000000             32.000000  \n",
       "max          313.000000             44.000000  "
      ]
     },
     "execution_count": 47,
     "metadata": {},
     "output_type": "execute_result"
    }
   ],
   "source": [
    "test.describe()"
   ]
  },
  {
   "cell_type": "code",
   "execution_count": 48,
   "metadata": {},
   "outputs": [
    {
     "data": {
      "text/plain": [
       "BENIGN      1798\n",
       "PortScan       2\n",
       "Name: Label, dtype: int64"
      ]
     },
     "execution_count": 48,
     "metadata": {},
     "output_type": "execute_result"
    }
   ],
   "source": [
    "train['Label'].value_counts()\n",
    "test['Label'].value_counts()"
   ]
  },
  {
   "cell_type": "code",
   "execution_count": 49,
   "metadata": {},
   "outputs": [],
   "source": [
    "scaler = StandardScaler()"
   ]
  },
  {
   "cell_type": "code",
   "execution_count": 50,
   "metadata": {},
   "outputs": [],
   "source": [
    "cols = train.select_dtypes(include=['float64','int64']).columns\n",
    "sc_train = scaler.fit_transform(train.select_dtypes(include=['float64','int64']))\n",
    "sc_test = scaler.fit_transform(test.select_dtypes(include=['float64','int64']))"
   ]
  },
  {
   "cell_type": "code",
   "execution_count": 51,
   "metadata": {},
   "outputs": [],
   "source": [
    "sc_traindf = pd.DataFrame(sc_train, columns = cols)\n",
    "sc_testdf = pd.DataFrame(sc_test, columns = cols)"
   ]
  },
  {
   "cell_type": "code",
   "execution_count": 52,
   "metadata": {},
   "outputs": [],
   "source": [
    "onehotencoder = OneHotEncoder() "
   ]
  },
  {
   "cell_type": "code",
   "execution_count": 53,
   "metadata": {},
   "outputs": [],
   "source": [
    "trainDep = train['Label'].values.reshape(-1,1)\n",
    "trainDep = onehotencoder.fit_transform(trainDep).toarray()\n",
    "testDep = test['Label'].values.reshape(-1,1)\n",
    "testDep = onehotencoder.fit_transform(testDep).toarray()"
   ]
  },
  {
   "cell_type": "code",
   "execution_count": 54,
   "metadata": {},
   "outputs": [],
   "source": [
    "train_X=sc_traindf\n",
    "train_y=trainDep[:,0]"
   ]
  },
  {
   "cell_type": "code",
   "execution_count": 55,
   "metadata": {},
   "outputs": [],
   "source": [
    "test_X=sc_testdf\n",
    "test_y=testDep[:,0]"
   ]
  },
  {
   "cell_type": "code",
   "execution_count": 56,
   "metadata": {},
   "outputs": [],
   "source": [
    "rfc = RandomForestClassifier()"
   ]
  },
  {
   "cell_type": "code",
   "execution_count": 57,
   "metadata": {},
   "outputs": [
    {
     "data": {
      "text/plain": [
       "RandomForestClassifier()"
      ]
     },
     "execution_count": 57,
     "metadata": {},
     "output_type": "execute_result"
    }
   ],
   "source": [
    "rfc.fit(train_X, train_y)"
   ]
  },
  {
   "cell_type": "code",
   "execution_count": 58,
   "metadata": {},
   "outputs": [],
   "source": [
    "score = np.round(rfc.feature_importances_,3)\n",
    "importances = pd.DataFrame({'feature':train_X.columns,'importance':score})\n",
    "importances = importances.sort_values('importance',ascending=False).set_index('feature')"
   ]
  },
  {
   "cell_type": "code",
   "execution_count": 59,
   "metadata": {},
   "outputs": [
    {
     "data": {
      "text/plain": [
       "<matplotlib.axes._subplots.AxesSubplot at 0x1e68ad5f508>"
      ]
     },
     "execution_count": 59,
     "metadata": {},
     "output_type": "execute_result"
    },
    {
     "data": {
      "image/png": "[encoded data removed]",
      "text/plain": [
       "<Figure size 792x288 with 1 Axes>"
      ]
     },
     "metadata": {
      "needs_background": "light"
     },
     "output_type": "display_data"
    }
   ],
   "source": [
    "plt.rcParams['figure.figsize'] = (11, 4)\n",
    "importances.plot.bar()"
   ]
  },
  {
   "cell_type": "code",
   "execution_count": 60,
   "metadata": {},
   "outputs": [],
   "source": [
    "rfc = RandomForestClassifier()"
   ]
  },
  {
   "cell_type": "code",
   "execution_count": 61,
   "metadata": {},
   "outputs": [],
   "source": [
    "rfe = RFE(rfc, n_features_to_select=20)\n",
    "rfe = rfe.fit(train_X, train_y)"
   ]
  },
  {
   "cell_type": "code",
   "execution_count": 62,
   "metadata": {},
   "outputs": [],
   "source": [
    "feature_map = [(i, v) for i, v in itertools.zip_longest(rfe.get_support(), train_X.columns)]"
   ]
  },
  {
   "cell_type": "code",
   "execution_count": 63,
   "metadata": {},
   "outputs": [],
   "source": [
    "selected_features = [v for i, v in feature_map if i==True]"
   ]
  },
  {
   "cell_type": "code",
   "execution_count": 64,
   "metadata": {},
   "outputs": [
    {
     "data": {
      "text/plain": [
       "['Destination Port',\n",
       " 'Flow Duration',\n",
       " 'Total Fwd Packets',\n",
       " 'Total Backward Packets',\n",
       " 'Total Length of Fwd Packets',\n",
       " 'Total Length of Bwd Packets',\n",
       " 'Subflow Fwd Packets',\n",
       " 'Subflow Fwd Bytes',\n",
       " 'Subflow Bwd Packets',\n",
       " 'Subflow Bwd Bytes',\n",
       " 'Init_Win_bytes_backward',\n",
       " 'act_data_pkt_fwd',\n",
       " 'min_seg_size_forward']"
      ]
     },
     "execution_count": 64,
     "metadata": {},
     "output_type": "execute_result"
    }
   ],
   "source": [
    "selected_features"
   ]
  },
  {
   "cell_type": "code",
   "execution_count": 65,
   "metadata": {},
   "outputs": [],
   "source": [
    "a = [i[0] for i in feature_map]\n",
    "train_X = train_X.iloc[:,a]\n",
    "test_X = test_X.iloc[:,a]"
   ]
  },
  {
   "cell_type": "code",
   "execution_count": 66,
   "metadata": {},
   "outputs": [],
   "source": [
    "X_train,X_test,Y_train,Y_test = train_test_split(train_X,train_y,train_size=0.70, random_state=2)"
   ]
  },
  {
   "cell_type": "code",
   "execution_count": 67,
   "metadata": {},
   "outputs": [],
   "source": [
    "KNN_Classifier = KNeighborsClassifier(n_jobs=-1)\n",
    "KNN_Classifier.fit(X_train, Y_train); "
   ]
  },
  {
   "cell_type": "code",
   "execution_count": 68,
   "metadata": {},
   "outputs": [],
   "source": [
    "LGR_Classifier = LogisticRegression(n_jobs=-1, random_state=0)\n",
    "LGR_Classifier.fit(X_train, Y_train);"
   ]
  },
  {
   "cell_type": "code",
   "execution_count": 69,
   "metadata": {},
   "outputs": [
    {
     "data": {
      "text/plain": [
       "BernoulliNB()"
      ]
     },
     "execution_count": 69,
     "metadata": {},
     "output_type": "execute_result"
    }
   ],
   "source": [
    "BNB_Classifier = BernoulliNB()\n",
    "BNB_Classifier.fit(X_train, Y_train)"
   ]
  },
  {
   "cell_type": "code",
   "execution_count": 70,
   "metadata": {},
   "outputs": [
    {
     "data": {
      "text/plain": [
       "DecisionTreeClassifier(criterion='entropy', random_state=0)"
      ]
     },
     "execution_count": 70,
     "metadata": {},
     "output_type": "execute_result"
    }
   ],
   "source": [
    "DTC_Classifier = tree.DecisionTreeClassifier(criterion='entropy', random_state=0)\n",
    "DTC_Classifier.fit(X_train, Y_train)"
   ]
  },
  {
   "cell_type": "code",
   "execution_count": 71,
   "metadata": {},
   "outputs": [],
   "source": [
    "models = []\n",
    "models.append(('Naive Baye Classifier', BNB_Classifier))\n",
    "models.append(('Decision Tree Classifier', DTC_Classifier))\n",
    "models.append(('KNeighborsClassifier', KNN_Classifier))\n",
    "models.append(('LogisticRegression', LGR_Classifier))"
   ]
  },
  {
   "cell_type": "code",
   "execution_count": 72,
   "metadata": {},
   "outputs": [
    {
     "name": "stderr",
     "output_type": "stream",
     "text": [
      "C:\\Users\\kanna\\AppData\\Roaming\\Python\\Python37\\site-packages\\sklearn\\model_selection\\_split.py:672: UserWarning: The least populated class in y has only 4 members, which is less than n_splits=10.\n",
      "  % (min_groups, self.n_splits)), UserWarning)\n",
      "C:\\Users\\kanna\\AppData\\Roaming\\Python\\Python37\\site-packages\\sklearn\\metrics\\_classification.py:1221: UndefinedMetricWarning: Precision and F-score are ill-defined and being set to 0.0 in labels with no predicted samples. Use `zero_division` parameter to control this behavior.\n",
      "  _warn_prf(average, modifier, msg_start, len(result))\n",
      "C:\\Users\\kanna\\AppData\\Roaming\\Python\\Python37\\site-packages\\sklearn\\model_selection\\_split.py:672: UserWarning: The least populated class in y has only 4 members, which is less than n_splits=10.\n",
      "  % (min_groups, self.n_splits)), UserWarning)\n",
      "C:\\Users\\kanna\\AppData\\Roaming\\Python\\Python37\\site-packages\\sklearn\\model_selection\\_split.py:672: UserWarning: The least populated class in y has only 4 members, which is less than n_splits=10.\n",
      "  % (min_groups, self.n_splits)), UserWarning)\n"
     ]
    },
    {
     "name": "stdout",
     "output_type": "stream",
     "text": [
      "\n",
      "============================== Naive Baye Classifier Model Evaluation ==============================\n",
      "\n",
      "Cross Validation Mean Score:\n",
      " 0.996938775510204\n",
      "\n",
      "Model Accuracy:\n",
      " 0.998639455782313\n",
      "\n",
      "Confusion matrix:\n",
      " [[   0    4]\n",
      " [   0 2936]]\n",
      "\n",
      "Classification report:\n",
      "               precision    recall  f1-score   support\n",
      "\n",
      "         0.0       0.00      0.00      0.00         4\n",
      "         1.0       1.00      1.00      1.00      2936\n",
      "\n",
      "    accuracy                           1.00      2940\n",
      "   macro avg       0.50      0.50      0.50      2940\n",
      "weighted avg       1.00      1.00      1.00      2940\n",
      "\n",
      "\n",
      "\n",
      "============================== Decision Tree Classifier Model Evaluation ==============================\n",
      "\n",
      "Cross Validation Mean Score:\n",
      " 0.9986394557823131\n",
      "\n",
      "Model Accuracy:\n",
      " 1.0\n",
      "\n",
      "Confusion matrix:\n",
      " [[   4    0]\n",
      " [   0 2936]]\n",
      "\n",
      "Classification report:\n",
      "               precision    recall  f1-score   support\n",
      "\n",
      "         0.0       1.00      1.00      1.00         4\n",
      "         1.0       1.00      1.00      1.00      2936\n",
      "\n",
      "    accuracy                           1.00      2940\n",
      "   macro avg       1.00      1.00      1.00      2940\n",
      "weighted avg       1.00      1.00      1.00      2940\n",
      "\n",
      "\n",
      "\n",
      "============================== KNeighborsClassifier Model Evaluation ==============================\n",
      "\n",
      "Cross Validation Mean Score:\n",
      " 0.9986394557823131\n",
      "\n",
      "Model Accuracy:\n",
      " 0.998639455782313\n",
      "\n",
      "Confusion matrix:\n",
      " [[   0    4]\n",
      " [   0 2936]]\n",
      "\n",
      "Classification report:\n",
      "               precision    recall  f1-score   support\n",
      "\n",
      "         0.0       0.00      0.00      0.00         4\n",
      "         1.0       1.00      1.00      1.00      2936\n",
      "\n",
      "    accuracy                           1.00      2940\n",
      "   macro avg       0.50      0.50      0.50      2940\n",
      "weighted avg       1.00      1.00      1.00      2940\n",
      "\n",
      "\n",
      "\n",
      "============================== LogisticRegression Model Evaluation ==============================\n",
      "\n",
      "Cross Validation Mean Score:\n",
      " 0.9986394557823131\n",
      "\n",
      "Model Accuracy:\n",
      " 0.998639455782313\n",
      "\n",
      "Confusion matrix:\n",
      " [[   0    4]\n",
      " [   0 2936]]\n",
      "\n",
      "Classification report:\n",
      "               precision    recall  f1-score   support\n",
      "\n",
      "         0.0       0.00      0.00      0.00         4\n",
      "         1.0       1.00      1.00      1.00      2936\n",
      "\n",
      "    accuracy                           1.00      2940\n",
      "   macro avg       0.50      0.50      0.50      2940\n",
      "weighted avg       1.00      1.00      1.00      2940\n",
      "\n",
      "\n"
     ]
    },
    {
     "name": "stderr",
     "output_type": "stream",
     "text": [
      "C:\\Users\\kanna\\AppData\\Roaming\\Python\\Python37\\site-packages\\sklearn\\metrics\\_classification.py:1221: UndefinedMetricWarning: Precision and F-score are ill-defined and being set to 0.0 in labels with no predicted samples. Use `zero_division` parameter to control this behavior.\n",
      "  _warn_prf(average, modifier, msg_start, len(result))\n",
      "C:\\Users\\kanna\\AppData\\Roaming\\Python\\Python37\\site-packages\\sklearn\\model_selection\\_split.py:672: UserWarning: The least populated class in y has only 4 members, which is less than n_splits=10.\n",
      "  % (min_groups, self.n_splits)), UserWarning)\n",
      "C:\\Users\\kanna\\AppData\\Roaming\\Python\\Python37\\site-packages\\sklearn\\metrics\\_classification.py:1221: UndefinedMetricWarning: Precision and F-score are ill-defined and being set to 0.0 in labels with no predicted samples. Use `zero_division` parameter to control this behavior.\n",
      "  _warn_prf(average, modifier, msg_start, len(result))\n"
     ]
    }
   ],
   "source": [
    "for i, v in models:\n",
    "    scores = cross_val_score(v, X_train, Y_train, cv=10)\n",
    "    accuracy = metrics.accuracy_score(Y_train, v.predict(X_train))\n",
    "    confusion_matrix = metrics.confusion_matrix(Y_train, v.predict(X_train))\n",
    "    classification = metrics.classification_report(Y_train, v.predict(X_train))\n",
    "    print()\n",
    "    print('============================== {} Model Evaluation =============================='.format(i))\n",
    "    print()\n",
    "    print (\"Cross Validation Mean Score:\" \"\\n\", scores.mean())\n",
    "    print()\n",
    "    print (\"Model Accuracy:\" \"\\n\", accuracy)\n",
    "    print()\n",
    "    print(\"Confusion matrix:\" \"\\n\", confusion_matrix)\n",
    "    print()\n",
    "    print(\"Classification report:\" \"\\n\", classification) \n",
    "    print()"
   ]
  },
  {
   "cell_type": "code",
   "execution_count": 73,
   "metadata": {},
   "outputs": [
    {
     "name": "stderr",
     "output_type": "stream",
     "text": [
      "C:\\Users\\kanna\\AppData\\Roaming\\Python\\Python37\\site-packages\\sklearn\\metrics\\_classification.py:1221: UndefinedMetricWarning: Precision and F-score are ill-defined and being set to 0.0 in labels with no predicted samples. Use `zero_division` parameter to control this behavior.\n",
      "  _warn_prf(average, modifier, msg_start, len(result))\n"
     ]
    },
    {
     "name": "stdout",
     "output_type": "stream",
     "text": [
      "\n",
      "============================== Naive Baye Classifier Model Test Results ==============================\n",
      "\n",
      "Model Accuracy:\n",
      " 0.9992063492063492\n",
      "\n",
      "Confusion matrix:\n",
      " [[   0    1]\n",
      " [   0 1259]]\n",
      "\n",
      "Classification report:\n",
      "               precision    recall  f1-score   support\n",
      "\n",
      "         0.0       0.00      0.00      0.00         1\n",
      "         1.0       1.00      1.00      1.00      1259\n",
      "\n",
      "    accuracy                           1.00      1260\n",
      "   macro avg       0.50      0.50      0.50      1260\n",
      "weighted avg       1.00      1.00      1.00      1260\n",
      "\n",
      "\n",
      "\n",
      "============================== Decision Tree Classifier Model Test Results ==============================\n",
      "\n",
      "Model Accuracy:\n",
      " 0.9984126984126984\n",
      "\n",
      "Confusion matrix:\n",
      " [[   1    0]\n",
      " [   2 1257]]\n",
      "\n",
      "Classification report:\n",
      "               precision    recall  f1-score   support\n",
      "\n",
      "         0.0       0.33      1.00      0.50         1\n",
      "         1.0       1.00      1.00      1.00      1259\n",
      "\n",
      "    accuracy                           1.00      1260\n",
      "   macro avg       0.67      1.00      0.75      1260\n",
      "weighted avg       1.00      1.00      1.00      1260\n",
      "\n",
      "\n",
      "\n",
      "============================== KNeighborsClassifier Model Test Results ==============================\n",
      "\n",
      "Model Accuracy:\n",
      " 0.9992063492063492\n",
      "\n",
      "Confusion matrix:\n",
      " [[   0    1]\n",
      " [   0 1259]]\n",
      "\n",
      "Classification report:\n",
      "               precision    recall  f1-score   support\n",
      "\n",
      "         0.0       0.00      0.00      0.00         1\n",
      "         1.0       1.00      1.00      1.00      1259\n",
      "\n",
      "    accuracy                           1.00      1260\n",
      "   macro avg       0.50      0.50      0.50      1260\n",
      "weighted avg       1.00      1.00      1.00      1260\n",
      "\n",
      "\n",
      "\n",
      "============================== LogisticRegression Model Test Results ==============================\n",
      "\n",
      "Model Accuracy:\n",
      " 0.9992063492063492\n",
      "\n",
      "Confusion matrix:\n",
      " [[   0    1]\n",
      " [   0 1259]]\n",
      "\n",
      "Classification report:\n",
      "               precision    recall  f1-score   support\n",
      "\n",
      "         0.0       0.00      0.00      0.00         1\n",
      "         1.0       1.00      1.00      1.00      1259\n",
      "\n",
      "    accuracy                           1.00      1260\n",
      "   macro avg       0.50      0.50      0.50      1260\n",
      "weighted avg       1.00      1.00      1.00      1260\n",
      "\n",
      "\n"
     ]
    },
    {
     "name": "stderr",
     "output_type": "stream",
     "text": [
      "C:\\Users\\kanna\\AppData\\Roaming\\Python\\Python37\\site-packages\\sklearn\\metrics\\_classification.py:1221: UndefinedMetricWarning: Precision and F-score are ill-defined and being set to 0.0 in labels with no predicted samples. Use `zero_division` parameter to control this behavior.\n",
      "  _warn_prf(average, modifier, msg_start, len(result))\n",
      "C:\\Users\\kanna\\AppData\\Roaming\\Python\\Python37\\site-packages\\sklearn\\metrics\\_classification.py:1221: UndefinedMetricWarning: Precision and F-score are ill-defined and being set to 0.0 in labels with no predicted samples. Use `zero_division` parameter to control this behavior.\n",
      "  _warn_prf(average, modifier, msg_start, len(result))\n"
     ]
    }
   ],
   "source": [
    "for i, v in models:\n",
    "    accuracy = metrics.accuracy_score(Y_test, v.predict(X_test))\n",
    "    confusion_matrix = metrics.confusion_matrix(Y_test, v.predict(X_test))\n",
    "    classification = metrics.classification_report(Y_test, v.predict(X_test))\n",
    "    print()\n",
    "    print('============================== {} Model Test Results =============================='.format(i))\n",
    "    print()\n",
    "    print (\"Model Accuracy:\" \"\\n\", accuracy)\n",
    "    print()\n",
    "    print(\"Confusion matrix:\" \"\\n\", confusion_matrix)\n",
    "    print()\n",
    "    print(\"Classification report:\" \"\\n\", classification) \n",
    "    print()        "
   ]
  },
  {
   "cell_type": "code",
   "execution_count": 75,
   "metadata": {},
   "outputs": [],
   "source": [
    "def getModel():\n",
    "    inp = Input(shape=(X_train.shape[1],))\n",
    "    d1=Dropout(0.3)(inp)\n",
    "    encoded = Dense(8, activation='relu', activity_regularizer=regularizers.l1(10e-5))(d1)\n",
    "    decoded = Dense(X_train.shape[1], activation='relu')(encoded)\n",
    "    autoencoder = Model(inp, decoded)\n",
    "    autoencoder.compile(optimizer='adam', loss='sparse_categorical_crossentropy', metrics = ['accuracy'])\n",
    "    return autoencoder"
   ]
  },
  {
   "cell_type": "code",
   "execution_count": 76,
   "metadata": {},
   "outputs": [],
   "source": [
    "autoencoder=getModel()"
   ]
  },
  {
   "cell_type": "code",
   "execution_count": 77,
   "metadata": {},
   "outputs": [],
   "source": [
    "callback = tf.keras.callbacks.EarlyStopping(monitor='loss', patience=3)"
   ]
  },
  {
   "cell_type": "code",
   "execution_count": 78,
   "metadata": {},
   "outputs": [
    {
     "name": "stdout",
     "output_type": "stream",
     "text": [
      "Train on 2646 samples, validate on 294 samples\n",
      "Epoch 1/32\n",
      "2646/2646 [==============================] - 0s 48us/step - loss: 7.3123 - accuracy: 0.1353 - val_loss: 8.7093 - val_accuracy: 0.4252\n",
      "Epoch 2/32\n",
      "2646/2646 [==============================] - 0s 13us/step - loss: 6.8396 - accuracy: 0.3662 - val_loss: 8.2286 - val_accuracy: 0.4320\n",
      "Epoch 3/32\n",
      "2646/2646 [==============================] - 0s 12us/step - loss: 6.5333 - accuracy: 0.5011 - val_loss: 7.7813 - val_accuracy: 0.4388\n",
      "Epoch 4/32\n",
      "2646/2646 [==============================] - 0s 15us/step - loss: 6.1831 - accuracy: 0.5499 - val_loss: 7.3730 - val_accuracy: 0.4592\n",
      "Epoch 5/32\n",
      "2646/2646 [==============================] - 0s 13us/step - loss: 5.5852 - accuracy: 0.5771 - val_loss: 6.5134 - val_accuracy: 0.4864\n",
      "Epoch 6/32\n",
      "2646/2646 [==============================] - 0s 14us/step - loss: 5.0380 - accuracy: 0.6024 - val_loss: 5.6225 - val_accuracy: 0.5272\n",
      "Epoch 7/32\n",
      "2646/2646 [==============================] - 0s 13us/step - loss: 3.9786 - accuracy: 0.6364 - val_loss: 2.0801 - val_accuracy: 0.7347\n",
      "Epoch 8/32\n",
      "2646/2646 [==============================] - 0s 39us/step - loss: 2.3131 - accuracy: 0.6920 - val_loss: 1.4427 - val_accuracy: 0.8027\n",
      "Epoch 9/32\n",
      "2646/2646 [==============================] - 0s 39us/step - loss: 1.3939 - accuracy: 0.7581 - val_loss: 1.0693 - val_accuracy: 0.8061\n",
      "Epoch 10/32\n",
      "2646/2646 [==============================] - 0s 15us/step - loss: 1.0499 - accuracy: 0.7857 - val_loss: 0.8232 - val_accuracy: 0.8095\n",
      "Epoch 11/32\n",
      "2646/2646 [==============================] - 0s 11us/step - loss: 0.8526 - accuracy: 0.7910 - val_loss: 0.5582 - val_accuracy: 0.8231\n",
      "Epoch 12/32\n",
      "2646/2646 [==============================] - 0s 14us/step - loss: 0.7673 - accuracy: 0.7967 - val_loss: 0.5321 - val_accuracy: 0.8333\n",
      "Epoch 13/32\n",
      "2646/2646 [==============================] - 0s 12us/step - loss: 0.7287 - accuracy: 0.8023 - val_loss: 0.5199 - val_accuracy: 0.8435\n",
      "Epoch 14/32\n",
      "2646/2646 [==============================] - 0s 19us/step - loss: 0.7050 - accuracy: 0.7918 - val_loss: 0.4871 - val_accuracy: 0.8469\n",
      "Epoch 15/32\n",
      "2646/2646 [==============================] - 0s 12us/step - loss: 0.6267 - accuracy: 0.8197 - val_loss: 0.4825 - val_accuracy: 0.8469\n",
      "Epoch 16/32\n",
      "2646/2646 [==============================] - 0s 18us/step - loss: 0.6600 - accuracy: 0.8144 - val_loss: 0.4787 - val_accuracy: 0.8469\n",
      "Epoch 17/32\n",
      "2646/2646 [==============================] - 0s 12us/step - loss: 0.5673 - accuracy: 0.8375 - val_loss: 0.4580 - val_accuracy: 0.8537\n",
      "Epoch 18/32\n",
      "2646/2646 [==============================] - 0s 20us/step - loss: 0.5764 - accuracy: 0.8273 - val_loss: 0.4560 - val_accuracy: 0.8537\n",
      "Epoch 19/32\n",
      "2646/2646 [==============================] - 0s 31us/step - loss: 0.5474 - accuracy: 0.8390 - val_loss: 0.4549 - val_accuracy: 0.8537\n",
      "Epoch 20/32\n",
      "2646/2646 [==============================] - 0s 35us/step - loss: 0.5335 - accuracy: 0.8390 - val_loss: 0.4541 - val_accuracy: 0.8537\n",
      "Epoch 21/32\n",
      "2646/2646 [==============================] - 0s 23us/step - loss: 0.5017 - accuracy: 0.8454 - val_loss: 0.4534 - val_accuracy: 0.8537\n",
      "Epoch 22/32\n",
      "2646/2646 [==============================] - 0s 15us/step - loss: 0.4478 - accuracy: 0.8655 - val_loss: 0.4521 - val_accuracy: 0.8537\n",
      "Epoch 23/32\n",
      "2646/2646 [==============================] - 0s 9us/step - loss: 0.4141 - accuracy: 0.8723 - val_loss: 0.4278 - val_accuracy: 0.8605\n",
      "Epoch 24/32\n",
      "2646/2646 [==============================] - 0s 9us/step - loss: 0.4164 - accuracy: 0.8719 - val_loss: 0.3880 - val_accuracy: 0.8639\n",
      "Epoch 25/32\n",
      "2646/2646 [==============================] - 0s 9us/step - loss: 0.4560 - accuracy: 0.8605 - val_loss: 0.3705 - val_accuracy: 0.8707\n",
      "Epoch 26/32\n",
      "2646/2646 [==============================] - 0s 6us/step - loss: 0.4236 - accuracy: 0.8715 - val_loss: 0.3704 - val_accuracy: 0.8707\n"
     ]
    }
   ],
   "source": [
    "history=autoencoder.fit(X_train, Y_train,\n",
    "               epochs=32,\n",
    "                batch_size=150,\n",
    "                shuffle=True,\n",
    "                validation_split=0.1, callbacks=[callback]\n",
    "                       )"
   ]
  },
  {
   "cell_type": "code",
   "execution_count": 79,
   "metadata": {},
   "outputs": [
    {
     "data": {
      "text/plain": [
       "Text(0.5, 0, 'epoch')"
      ]
     },
     "execution_count": 79,
     "metadata": {},
     "output_type": "execute_result"
    },
    {
     "data": {
      "image/png": "[encoded data removed]",
      "text/plain": [
       "<Figure size 792x288 with 1 Axes>"
      ]
     },
     "metadata": {
      "needs_background": "light"
     },
     "output_type": "display_data"
    }
   ],
   "source": [
    "plt.plot(history.history['loss'])\n",
    "plt.plot(history.history['val_loss'])\n",
    "plt.legend(['training','validation'])\n",
    "plt.title('Training and validation loss')\n",
    "plt.xlabel('epoch')"
   ]
  },
  {
   "cell_type": "code",
   "execution_count": 80,
   "metadata": {},
   "outputs": [
    {
     "data": {
      "text/plain": [
       "Text(0.5, 0, 'epoch')"
      ]
     },
     "execution_count": 80,
     "metadata": {},
     "output_type": "execute_result"
    },
    {
     "data": {
      "image/png": "[encoded data removed]",
      "text/plain": [
       "<Figure size 792x288 with 1 Axes>"
      ]
     },
     "metadata": {
      "needs_background": "light"
     },
     "output_type": "display_data"
    }
   ],
   "source": [
    "plt.plot(history.history['accuracy'])\n",
    "plt.plot(history.history['val_accuracy'])\n",
    "plt.legend(['training','validation'])\n",
    "plt.title('Training and validation accuracy')\n",
    "plt.xlabel('epoch')"
   ]
  },
  {
   "cell_type": "code",
   "execution_count": null,
   "metadata": {},
   "outputs": [],
   "source": []
  },
  {
   "cell_type": "code",
   "execution_count": null,
   "metadata": {},
   "outputs": [],
   "source": []
  },
  {
   "cell_type": "code",
   "execution_count": null,
   "metadata": {},
   "outputs": [],
   "source": []
  }
 ],
 "metadata": {
  "kernelspec": {
   "display_name": "Python 3",
   "language": "python",
   "name": "python3"
  },
  "language_info": {
   "codemirror_mode": {
    "name": "ipython",
    "version": 3
   },
   "file_extension": ".py",
   "mimetype": "text/x-python",
   "name": "python",
   "nbconvert_exporter": "python",
   "pygments_lexer": "ipython3",
   "version": "3.7.6"
  }
 },
 "nbformat": 4,
 "nbformat_minor": 4
}
